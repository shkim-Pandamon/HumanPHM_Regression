{
 "cells": [
  {
   "cell_type": "markdown",
   "metadata": {},
   "source": [
    "# Description"
   ]
  },
  {
   "cell_type": "markdown",
   "metadata": {},
   "source": [
    "## Parameters setting\n",
    "`data_directory`: path of directory where the data is stored."
   ]
  },
  {
   "cell_type": "code",
   "execution_count": null,
   "metadata": {},
   "outputs": [
    {
     "ename": "",
     "evalue": "",
     "output_type": "error",
     "traceback": [
      "\u001b[1;31mRunning cells with 'Python 3.11.0 ('.venv': venv)' requires ipykernel package.\n",
      "\u001b[1;31mRun the following command to install 'ipykernel' into the Python environment. \n",
      "\u001b[1;31mCommand: '/home/sooho/git_clones/HumanPHM_Regression/.venv/bin/python -m pip install ipykernel -U --force-reinstall'"
     ]
    }
   ],
   "source": [
    "data_directory = 'data_for_paper/'\n",
    "number_of_individuals_for_train = 32\n",
    "\n",
    "device = \"cuda\"\n",
    "epoch=150000\n",
    "batch_size=64\n",
    "model_name = 'regL'\n",
    "model_dir='model'\n",
    "lrFE=0.0002\n",
    "lrSV=0.0002\n",
    "lrREG=0.0002\n",
    "lossREG=0.002\n",
    "beta1=0.5\n",
    "beta2=0.999\n",
    "\n",
    "load_dir='model'"
   ]
  },
  {
   "cell_type": "markdown",
   "metadata": {},
   "source": [
    "## Set-up data"
   ]
  },
  {
   "cell_type": "code",
   "execution_count": null,
   "metadata": {},
   "outputs": [],
   "source": [
    "from lib.data_manager import DataManager\n",
    "DM = DataManager(path=data_directory)\n",
    "DM.loads_data()\n",
    "DM.normalize_data()"
   ]
  },
  {
   "cell_type": "markdown",
   "metadata": {},
   "source": [
    "## Train model"
   ]
  },
  {
   "cell_type": "code",
   "execution_count": null,
   "metadata": {},
   "outputs": [],
   "source": [
    "from lib.regressor_basic import Regressor\n",
    "import numpy as np\n",
    "rndtr = np.random.randint(0, DM.data_input_train.shape[0], number_of_individuals_for_train)\n",
    "\n",
    "Reg=Regressor(epoch=epoch, batch_size=batch_size,\n",
    "                model_dir=\"{}/{}\".format(model_dir, model_name),\n",
    "                lrFE=lrFE, lrSV=lrSV, lrREG=lrREG, lossREG=lossREG,\n",
    "                beta1=beta1, beta2=beta2)\n",
    "Reg.train(tr_in = DM.data_input_train[rndtr],\n",
    "        tr_lb = DM.data_label_train[rndtr],\n",
    "        ts_in = DM.data_input_test,\n",
    "        ts_sv = DM.data_severity_test)"
   ]
  },
  {
   "cell_type": "markdown",
   "metadata": {},
   "source": [
    "## Test model"
   ]
  },
  {
   "cell_type": "code",
   "execution_count": null,
   "metadata": {},
   "outputs": [],
   "source": [
    "from lib.regressor_only_for_test import Regressor\n",
    "from lib.accuracy_measure import AccuracyMeasure\n",
    "from lib.bland_altman import BlandAltman\n",
    "from lib.performance import Performance\n",
    "\n",
    "Reg = Regressor(device=device)\n",
    "x_test, y_test, r_test, R_loss_test = Reg.test(\n",
    "    ts_in = DM.data_input_test, \n",
    "    ts_sv = DM.data_severity_test, \n",
    "    model_dir = \"{}/{}\".format(model_dir, model_name),\n",
    "    epoch = epoch\n",
    ")\n",
    "\n",
    "AccuracyMeasure().measures(\n",
    "    x_test = x_test,\n",
    "    y_test = y_test, \n",
    "    r_test = r_test, \n",
    "    x_ref = tr_sv[rndtr], \n",
    "    R_loss_test = R_loss_test,\n",
    "    save_path = 'plot_accuracy/' + model_name + '.png'\n",
    ")\n",
    "\n",
    "#%% BA Plot\n",
    "randint = np.random.randint(0, y_test.shape[0], 16)\n",
    "BlandAltman().plots(\n",
    "    y_real = y_test, \n",
    "    y_pred = r_test, \n",
    "    randint = randint, \n",
    "    save_path = 'plot_BA/' + model_name + '.png'\n",
    ")\n",
    "\n",
    "#%% Performnace\n",
    "Performance().measures(\n",
    "    y_real = y_test,\n",
    "    y_pred = r_test, \n",
    "    roc_path = 'plot_roc/' + model_name + '.png', \n",
    "    performance_path = 'performance/' + model_name\n",
    ")"
   ]
  },
  {
   "cell_type": "markdown",
   "metadata": {},
   "source": [
    "from lib.regressor_only_for_test import Regressor"
   ]
  }
 ],
 "metadata": {
  "kernelspec": {
   "display_name": "Python 3.11.0 ('.venv': venv)",
   "language": "python",
   "name": "python3"
  },
  "language_info": {
   "name": "python",
   "version": "3.11.0"
  },
  "orig_nbformat": 4,
  "vscode": {
   "interpreter": {
    "hash": "dceb6d758845ef95de2716bfe02fba0a0b3c7c8554d21a97b10b58b0523b502a"
   }
  }
 },
 "nbformat": 4,
 "nbformat_minor": 2
}
